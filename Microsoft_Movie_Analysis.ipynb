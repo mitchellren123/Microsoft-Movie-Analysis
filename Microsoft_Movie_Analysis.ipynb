{
 "cells": [
  {
   "cell_type": "markdown",
   "metadata": {},
   "source": [
    "![example](images/director_shot.jpeg)"
   ]
  },
  {
   "cell_type": "markdown",
   "metadata": {},
   "source": [
    "# Phase 1 Project: Microsoft Movie Analysis\n",
    "**Author:** Mitchell Ren\n",
    "***"
   ]
  },
  {
   "cell_type": "markdown",
   "metadata": {},
   "source": [
    "## Overview\n",
    "\n",
    "This Microsoft Movie Analysis seeks to answer the following question: Which types of movies are currently performing best at the box office, and how should Microsoft use this information to break into the market?\n",
    "\n",
    "The analysis merges data from IMDB and The Numbers to investigate movie genre performance based on key performance indicators. I gave each movie a score based on these indicators and then stack-ranked each one against the rest using percentiles. Finally, I categorized each movie by genre and used bar chart visualization to identify the top 5 performing genres.\n",
    "\n",
    "I found the top 5 genres to be:\n",
    "1. Adventure\n",
    "2. Biography\n",
    "3. Action\n",
    "4. Mystery\n",
    "5. Animation\n",
    "\n",
    "My recommendation to Microsoft is that the new studio should focus its resources on these 5 main genres to start. I took my analysis one step further by identifying budget ranges and the top talent - including writers, directors, and actors - within each of these categories."
   ]
  },
  {
   "cell_type": "markdown",
   "metadata": {},
   "source": [
    "## Business Problem\n",
    "\n",
    "Microsoft wants to break into the Movie-making business. However, the company has no prior experience doing so. I am tasked with evaluating the market and providing a recommendation on how to proceed.\n",
    "\n",
    "***\n",
    "Analysis Questions:\n",
    "* What are the top performing genres?\n",
    "* What are the key performance indicators for individual movies? \n",
    "* How can we take all KPIs into consideration? \n",
    "* Who contributes most to these KPIs? \n",
    "\n",
    "***\n",
    "\n",
    "\n",
    "We first need to understand the market and what movies have been successful. We have metrics in our data that indicate successs in a few different ways. It is important for us to consider at least a few of these metrics so as to ensure our analysis is not too one-dimensional. Once we have a better understanding of categorical trends, we can then focus the rest of our analysis on those categories.\n"
   ]
  },
  {
   "cell_type": "markdown",
   "metadata": {},
   "source": [
    "## Data Understanding\n",
    "\n",
    "I will be using two datasets in this analysis - the first being IMDB data stored in a SQLite DB, and the second being a CSV file from The Numbers. The IMDB data gives us information on movie attributes such as: title, genre, runtime, and start year. It also gives us information on movie performance (i.e. average rating and number of votes). Finally, it gives us access to movie talent which we will use to round out our recommendation. The Numbers data gives us access to budget and revenue for each movie which will allow us to calculate Return on Investment.\n",
    "\n",
    "It is important to note that these datasets do not include the same number of movies. That is, in joining the data we will lose a large number of movies from our analysis. However, I believe the number of movies we are left with is still significant enough to glean insights from. The ROI numbers are crucial. \n"
   ]
  },
  {
   "cell_type": "markdown",
   "metadata": {},
   "source": [
    "## Data Preparation\n",
    "\n",
    "I started by investigating the IMDB tables. I found movie_basics and movie_ratings to be the most useful datatsets to start with because they contain both attributes and metrics.\n",
    "\n",
    "The main variables I was interested in were movie_id, primary_title, genres, averagerating, and numvotes. Once I joined in budget and revenue data from The Numbers, I was able to create an ROI variable. Finally, I created ranking variables for each KPI.\n",
    "\n",
    "I dropped any rows with null values in the genres column. I felt this was an appropriate course of action because genre was the basis for my categorical analysis. I also dropped many rows in joining data between IMDB datasets and The Numbers dataset. Although this cut the population size down significantly, I still felt there was enough data to produce accurate findings."
   ]
  },
  {
   "cell_type": "code",
   "execution_count": 1,
   "metadata": {},
   "outputs": [],
   "source": [
    "# Import standard packages\n",
    "import pandas as pd\n",
    "import numpy as np\n",
    "import matplotlib.pyplot as plt\n",
    "import seaborn as sns\n",
    "import sqlite3\n",
    "\n",
    "%matplotlib inline"
   ]
  },
  {
   "cell_type": "code",
   "execution_count": 2,
   "metadata": {},
   "outputs": [],
   "source": [
    "# Connecting to the SQLite IMDB database \n",
    "conn = sqlite3.connect('/Users/mitchellren/Documents/Flatiron/phase_1/Microsoft-Movie-Analysis/zippedData/im.db')\n",
    "cur = conn.cursor()"
   ]
  },
  {
   "cell_type": "code",
   "execution_count": 3,
   "metadata": {},
   "outputs": [],
   "source": [
    "# Joining the movie_basics and movie_ratings tables in the IMDB SQLite database\n",
    "joined_imdb_df = pd.DataFrame(\n",
    "    data=cur.execute(\"\"\"SELECT *\n",
    "    FROM movie_basics as mb\n",
    "    LEFT JOIN movie_ratings as mr\n",
    "    ON mb.movie_id = mr.movie_id;\"\"\").fetchall(),\n",
    "    columns=[x[0] for x in cur.description])\n",
    "\n",
    "joined_imdb_df.columns = ['movie_id', \n",
    "                          'primary_title', \n",
    "                          'original_title', \n",
    "                          'start_year', \n",
    "                          'runtime_minutes', \n",
    "                          'genres', \n",
    "                          'mr.movie_id',\n",
    "                          'average_rating',\n",
    "                          'num_votes']"
   ]
  },
  {
   "cell_type": "code",
   "execution_count": 4,
   "metadata": {},
   "outputs": [],
   "source": [
    "# Investigating null values from table join\n",
    "joined_imdb_df_joinnulls = pd.isnull(joined_imdb_df['mr.movie_id'])\n",
    "join_nulls = joined_imdb_df[joined_imdb_df_joinnulls]\n",
    "\n",
    "# Dropping null values from table join\n",
    "joined_imdb_df_dropped_joinnulls = joined_imdb_df.drop(join_nulls.index)\n",
    "joined_imdb_df_dropped_joinnulls.reset_index()\n",
    "\n",
    "# Investigating null values from genre column\n",
    "joined_imdb_df_genrenulls = pd.isnull(joined_imdb_df_dropped_joinnulls['genres'])\n",
    "genre_nulls = joined_imdb_df_dropped_joinnulls[joined_imdb_df_genrenulls]\n",
    "\n",
    "# Dropping null values from genre column\n",
    "joined_imdb_clean = joined_imdb_df_dropped_joinnulls.drop(genre_nulls.index)\n",
    "\n",
    "joined_imdb_clean.to_csv('imdb_clean.csv', index = False)"
   ]
  },
  {
   "cell_type": "code",
   "execution_count": 5,
   "metadata": {},
   "outputs": [],
   "source": [
    "# Reading in data from The Numbers .csv dataset\n",
    "\n",
    "the_numbers = pd.read_csv('/Users/mitchellren/Documents/Flatiron/phase_1/Microsoft-Movie-Analysis/zippedData/tn.movie_budgets.csv.gz')"
   ]
  },
  {
   "cell_type": "code",
   "execution_count": 6,
   "metadata": {},
   "outputs": [],
   "source": [
    "# Joining The Numbers budget & revenue data to IMDB ratings data\n",
    "\n",
    "joined_df = joined_imdb_clean.merge(the_numbers, how = 'inner', left_on = 'primary_title', right_on = 'movie')"
   ]
  },
  {
   "cell_type": "markdown",
   "metadata": {},
   "source": [
    "## Data Modeling\n",
    "\n",
    "I started my analysis by combining two tables found in the IMDB SQlite database: movie_basics and movie_ratings. This joined dataset served as the basis for my categorical analysis (movie ratings by genre). Initially, I was just looking at average rating, and then I realized that there were large variances in number of votes. I started to question the validity of purely relying on average rating, because intuitively a movie with a 7.0 rating with only 10 votes should not necessarily be considered equal to a movie with a 7.0 rating with 10,000 votes. I then realized that number of votes should also be factored into my analysis as an indicator of popularity.\n",
    "\n",
    "I then joined in another dataset - a CSV file from The Numbers which includes budget and revenue. To me, this is a crucial part of the analysis because at the end of the day, businesses are driven by Return on Investment. Now with average rating, number of votes, and ROI - I created a scoring system that ranked each movie against the others using percentiles in each category. I then weighted these 3 factors equally so as to take a more balanced approach than simply choosing one KPI to evaluate success.\n",
    "\n",
    "With each movie scored and ranked against the rest, I then aggregated by genre to pinpoint the most successful ones. Finally, I found budget ranges and talent pools for the top 5 performing genres."
   ]
  },
  {
   "cell_type": "code",
   "execution_count": 7,
   "metadata": {},
   "outputs": [],
   "source": [
    "# Ranking each performance category by percentiles: Rating, Number of Votes, ROI\n",
    "# Averaging those percentile scores into an overall movie score out of 100\n",
    "joined_df['production_budget'] = joined_df['production_budget'].str[1:].replace(\",\",\"\", regex = True).astype(int)\n",
    "joined_df['domestic_gross'] = joined_df['domestic_gross'].str[1:].replace(\",\",\"\", regex = True).astype(int)\n",
    "joined_df['worldwide_gross'] = joined_df['worldwide_gross'].str[1:].replace(\",\",\"\", regex = True).astype(int)\n",
    "\n",
    "# Assuming worldwide_gross is inclusive of domesetic_gross\n",
    "joined_df['ROI'] = joined_df['worldwide_gross'] - joined_df['production_budget']\n",
    "joined_df['average_rating_rank'] = joined_df.average_rating.rank(pct = True)\n",
    "joined_df['num_votes_rank'] = joined_df.num_votes.rank(pct = True)\n",
    "joined_df['ROI_rank'] = joined_df.ROI.rank(pct = True)\n",
    "joined_df['Overall_Movie_Score'] = (joined_df[['average_rating_rank','num_votes_rank','ROI_rank']].mean(axis = 1) * 100).round()"
   ]
  },
  {
   "cell_type": "code",
   "execution_count": 8,
   "metadata": {},
   "outputs": [],
   "source": [
    "# Consolidating the genre column, since there are instances of more than one genre listed\n",
    "# Assuming that the first-listed genre is the most important descriptor - for example, drama seems to be a catch-all category\n",
    "\n",
    "joined_df['Primary_Genre'] = joined_df['genres'].str.split(',').str[0]"
   ]
  },
  {
   "cell_type": "code",
   "execution_count": 9,
   "metadata": {},
   "outputs": [],
   "source": [
    "pivot = pd.pivot_table(joined_df, \n",
    "                       values = 'Overall_Movie_Score',\n",
    "                       index = 'Primary_Genre', \n",
    "                       aggfunc = np.mean)\n",
    "pivot_reset = pivot.reset_index()"
   ]
  },
  {
   "cell_type": "code",
   "execution_count": 10,
   "metadata": {},
   "outputs": [
    {
     "data": {
      "text/plain": [
       "Index(['Primary_Genre', 'Overall_Movie_Score'], dtype='object')"
      ]
     },
     "execution_count": 10,
     "metadata": {},
     "output_type": "execute_result"
    }
   ],
   "source": [
    "pivot_reset.columns"
   ]
  },
  {
   "cell_type": "code",
   "execution_count": 11,
   "metadata": {},
   "outputs": [
    {
     "data": {
      "image/png": "[encoded data removed]",
      "text/plain": [
       "<Figure size 1080x576 with 1 Axes>"
      ]
     },
     "metadata": {
      "needs_background": "light"
     },
     "output_type": "display_data"
    }
   ],
   "source": [
    "plt.figure(figsize = (15,8))\n",
    "\n",
    "ax = sns.barplot(x = 'Primary_Genre', \n",
    "                 y = 'Overall_Movie_Score', \n",
    "                 data = pivot_reset, order = pivot_reset.sort_values('Overall_Movie_Score').Primary_Genre)\n",
    "ax.set_xlabel('Primary Genre')\n",
    "ax.set_ylabel('Overall Movie Score (Avg)')\n",
    "ax.set_xticklabels(ax.get_xticklabels(),rotation = 90)\n",
    "ax.set_title('Average Movie Score by Genre')\n",
    "fig1 = ax.get_figure()\n",
    "fig1.savefig('Genre_Performance.png');"
   ]
  },
  {
   "cell_type": "code",
   "execution_count": 12,
   "metadata": {},
   "outputs": [
    {
     "data": {
      "image/png": "[encoded data removed]",
      "text/plain": [
       "<Figure size 432x288 with 1 Axes>"
      ]
     },
     "metadata": {
      "needs_background": "light"
     },
     "output_type": "display_data"
    }
   ],
   "source": [
    "# Exploring the relationship between Production Budget and Overall Movie Score\n",
    "\n",
    "ax = sns.scatterplot(data=joined_df, x='production_budget', y='Overall_Movie_Score')\n",
    "ax.set_ylabel('Overall Movie Score')\n",
    "ax.set_xlabel('Production Budget')\n",
    "ax.set_title('Performance and Production Budget')\n",
    "fig2 = ax.get_figure()\n",
    "fig2.savefig('Budget_Performance.png');"
   ]
  },
  {
   "cell_type": "code",
   "execution_count": 13,
   "metadata": {},
   "outputs": [
    {
     "name": "stdout",
     "output_type": "stream",
     "text": [
      "Production Budget Mean (Millions): 71.8\n",
      "Production Budget Median (Millions): 72.0\n",
      "Production Budget Standard Deviation (Millions): 50.60313999919153\n"
     ]
    },
    {
     "data": {
      "image/png": "[encoded data removed]",
      "text/plain": [
       "<Figure size 432x288 with 1 Axes>"
      ]
     },
     "metadata": {
      "needs_background": "light"
     },
     "output_type": "display_data"
    }
   ],
   "source": [
    "# Using measures of central tendency and dispersion to determine a budget range recommendation for the Adventure category\n",
    "\n",
    "Adventure_subset_df = joined_df[joined_df['Primary_Genre'] == 'Animation'].sort_values('Overall_Movie_Score', ascending = False).head(10)\n",
    "print('Production Budget Mean (Millions):', Adventure_subset_df['production_budget'].mean() / 1000000)\n",
    "print('Production Budget Median (Millions):', Adventure_subset_df['production_budget'].median() / 1000000)\n",
    "print('Production Budget Standard Deviation (Millions):', Adventure_subset_df['production_budget'].std()/ 1000000);\n",
    "\n",
    "Adventure_budgets = Adventure_subset_df['production_budget'] / 1000000\n",
    "ax = sns.histplot(data = Adventure_budgets, bins = 5)\n",
    "ax.set_xlabel('Production Budget (Millions)')\n",
    "ax.set_title('Adventure Budgets')\n",
    "fig3 = ax.get_figure()\n",
    "fig3.savefig('Adventure_Budgets.png');"
   ]
  },
  {
   "cell_type": "code",
   "execution_count": 14,
   "metadata": {},
   "outputs": [
    {
     "name": "stdout",
     "output_type": "stream",
     "text": [
      "Production Budget Mean (Millions): 47.65\n",
      "Production Budget Median (Millions): 42.25\n",
      "Production Budget Standard Deviation (Millions): 27.355732691907765\n"
     ]
    },
    {
     "data": {
      "image/png": "[encoded data removed]",
      "text/plain": [
       "<Figure size 432x288 with 1 Axes>"
      ]
     },
     "metadata": {
      "needs_background": "light"
     },
     "output_type": "display_data"
    }
   ],
   "source": [
    "# Using measures of central tendency and dispersion to determine a budget range recommendation for the Biography category\n",
    "\n",
    "Biography_subset_df = joined_df[joined_df['Primary_Genre'] == 'Biography'].sort_values('Overall_Movie_Score', ascending = False).head(10)\n",
    "print('Production Budget Mean (Millions):', Biography_subset_df['production_budget'].mean() / 1000000)\n",
    "print('Production Budget Median (Millions):', Biography_subset_df['production_budget'].median() / 1000000)\n",
    "print('Production Budget Standard Deviation (Millions):', Biography_subset_df['production_budget'].std()/ 1000000);\n",
    "\n",
    "Biography_budgets = Biography_subset_df['production_budget'] / 1000000\n",
    "ax = sns.histplot(data = Biography_budgets, bins = 5)\n",
    "ax.set_xlabel('Production Budget (Millions)')\n",
    "ax.set_title('Biography Budgets')\n",
    "fig4 = ax.get_figure()\n",
    "fig4.savefig('Biography_Budgets.png');"
   ]
  },
  {
   "cell_type": "code",
   "execution_count": 15,
   "metadata": {},
   "outputs": [
    {
     "name": "stdout",
     "output_type": "stream",
     "text": [
      "Production Budget Mean (Millions): 194.5\n",
      "Production Budget Median (Millions): 190.0\n",
      "Production Budget Standard Deviation (Millions): 72.14222064782868\n"
     ]
    },
    {
     "data": {
      "image/png": "[encoded data removed]",
      "text/plain": [
       "<Figure size 432x288 with 1 Axes>"
      ]
     },
     "metadata": {
      "needs_background": "light"
     },
     "output_type": "display_data"
    }
   ],
   "source": [
    "# Using measures of central tendency and dispersion to determine a budget range recommendation for the Action category\n",
    "\n",
    "Action_subset_df = joined_df[joined_df['Primary_Genre'] == 'Action'].sort_values('Overall_Movie_Score', ascending = False).head(10)\n",
    "print('Production Budget Mean (Millions):', Action_subset_df['production_budget'].mean() / 1000000)\n",
    "print('Production Budget Median (Millions):', Action_subset_df['production_budget'].median() / 1000000)\n",
    "print('Production Budget Standard Deviation (Millions):', Action_subset_df['production_budget'].std() / 1000000);\n",
    "\n",
    "Action_budgets = Action_subset_df['production_budget'] / 1000000\n",
    "ax = sns.histplot(data = Action_budgets, bins = 5)\n",
    "ax.set_xlabel('Production Budget (Millions)')\n",
    "ax.set_title('Action Budgets')\n",
    "fig5 = ax.get_figure()\n",
    "fig5.savefig('Action_Budgets.png');"
   ]
  },
  {
   "cell_type": "code",
   "execution_count": 16,
   "metadata": {},
   "outputs": [
    {
     "name": "stdout",
     "output_type": "stream",
     "text": [
      "Production Budget Mean (Millions): 33.215\n",
      "Production Budget Median (Millions): 26.0\n",
      "Production Budget Standard Deviation (Millions): 30.90280506865212\n"
     ]
    },
    {
     "data": {
      "image/png": "[encoded data removed]",
      "text/plain": [
       "<Figure size 432x288 with 1 Axes>"
      ]
     },
     "metadata": {
      "needs_background": "light"
     },
     "output_type": "display_data"
    }
   ],
   "source": [
    "# Using measures of central tendency and dispersion to determine a budget range recommendation for the Mystery category\n",
    "\n",
    "Mystery_subset_df = joined_df[joined_df['Primary_Genre'] == 'Mystery'].sort_values('Overall_Movie_Score', ascending = False).head(10)\n",
    "print('Production Budget Mean (Millions):', Mystery_subset_df['production_budget'].mean() / 1000000)\n",
    "print('Production Budget Median (Millions):', Mystery_subset_df['production_budget'].median() / 1000000)\n",
    "print('Production Budget Standard Deviation (Millions):', Mystery_subset_df['production_budget'].std() / 1000000);\n",
    "\n",
    "Mystery_budgets = Mystery_subset_df['production_budget'] / 1000000\n",
    "ax = sns.histplot(data = Mystery_budgets, bins = 5)\n",
    "ax.set_xlabel('Production Budget (Millions)')\n",
    "ax.ticklabel_format(style = 'plain', axis = 'x')\n",
    "ax.set_title('Mystery Budgets')\n",
    "fig6 = ax.get_figure()\n",
    "fig6.savefig('Mystery_Budgets.png');"
   ]
  },
  {
   "cell_type": "code",
   "execution_count": 17,
   "metadata": {},
   "outputs": [
    {
     "name": "stdout",
     "output_type": "stream",
     "text": [
      "Production Budget Mean (Millions): 71.8\n",
      "Production Budget Median (Millions): 72.0\n",
      "Production Budget Standard Deviation (Millions): 50.60313999919153\n"
     ]
    },
    {
     "data": {
      "image/png": "[encoded data removed]",
      "text/plain": [
       "<Figure size 432x288 with 1 Axes>"
      ]
     },
     "metadata": {
      "needs_background": "light"
     },
     "output_type": "display_data"
    }
   ],
   "source": [
    "# Using measures of central tendency and dispersion to determine a budget range recommendation for the Animation category\n",
    "\n",
    "Animation_subset_df = joined_df[joined_df['Primary_Genre'] == 'Animation'].sort_values('Overall_Movie_Score', ascending = False).head(10)\n",
    "print('Production Budget Mean (Millions):', Animation_subset_df['production_budget'].mean() / 1000000)\n",
    "print('Production Budget Median (Millions):', Animation_subset_df['production_budget'].median() / 1000000)\n",
    "print('Production Budget Standard Deviation (Millions):', Animation_subset_df['production_budget'].std() / 1000000);\n",
    "\n",
    "Animation_budgets = Animation_subset_df['production_budget'] / 1000000\n",
    "ax = sns.histplot(data = Animation_budgets, bins = 5)\n",
    "ax.set_xlabel('Production Budget (Millions)')\n",
    "ax.set_title('Animation Budgets')\n",
    "fig7 = ax.get_figure()\n",
    "fig7.savefig('Animation_Budgets.png');"
   ]
  },
  {
   "cell_type": "code",
   "execution_count": 18,
   "metadata": {},
   "outputs": [],
   "source": [
    "# Investigating writers and directors \n",
    "movie_principals_df = pd.DataFrame(\n",
    "    data=cur.execute(\"\"\"SELECT\n",
    "        pri.movie_id,\n",
    "        pri.person_id,\n",
    "        pri.category,\n",
    "        per.primary_name,\n",
    "        per.birth_year\n",
    "    FROM principals as pri\n",
    "    LEFT JOIN persons as per\n",
    "        ON per.person_id = pri.person_id\n",
    "    WHERE (category = 'director' OR category = 'writer' OR category = 'actor') \n",
    "    AND death_year is null\n",
    "    AND birth_year is not null\n",
    "    ORDER BY movie_id;\"\"\").fetchall(),\n",
    "    columns=[x[0] for x in cur.description])"
   ]
  },
  {
   "cell_type": "code",
   "execution_count": 19,
   "metadata": {},
   "outputs": [],
   "source": [
    "# Consolidating dataset by movie_id to create list of talent per movie\n",
    "movie_principals_grouped = movie_principals_df.groupby('movie_id').agg(pd.Series.tolist).reset_index()"
   ]
  },
  {
   "cell_type": "code",
   "execution_count": 20,
   "metadata": {},
   "outputs": [],
   "source": [
    "# Joining talent dataset with the IMDB ratings dataset used for the genre analysis\n",
    "\n",
    "talent_join = joined_df.merge(movie_principals_grouped, \n",
    "                              how = 'inner', \n",
    "                              left_on = 'movie_id', \n",
    "                              right_on = 'movie_id')"
   ]
  },
  {
   "cell_type": "code",
   "execution_count": 21,
   "metadata": {},
   "outputs": [],
   "source": [
    "# Creating new subsest dataset filtered for top 5 genres\n",
    "\n",
    "genre_pivot = pivot.sort_values('Overall_Movie_Score', ascending = False).reset_index().head(5)\n",
    "top_5_genres = list(genre_pivot['Primary_Genre'])\n",
    "top_5_genres\n",
    "\n",
    "talent_join_filtered = talent_join[talent_join['Primary_Genre'].isin(top_5_genres)]"
   ]
  },
  {
   "cell_type": "code",
   "execution_count": 22,
   "metadata": {},
   "outputs": [],
   "source": [
    "# Creating dataframes for each top 5 genre and then identifying the top talent per genre\n",
    "\n",
    "Animation_df = pd.DataFrame(talent_join[talent_join['Primary_Genre'] == 'Animation'])\n",
    "Adventure_df = pd.DataFrame(talent_join[talent_join['Primary_Genre'] == 'Adventure'])\n",
    "Biography_df = pd.DataFrame(talent_join[talent_join['Primary_Genre'] == 'Biography'])\n",
    "Action_df = pd.DataFrame(talent_join[talent_join['Primary_Genre'] == 'Action'])\n",
    "Mystery_df = pd.DataFrame(talent_join[talent_join['Primary_Genre'] == 'Mystery'])"
   ]
  },
  {
   "cell_type": "code",
   "execution_count": 23,
   "metadata": {},
   "outputs": [],
   "source": [
    "# Creating a new DataFrame with just the name and titles for talent associated with the top 10 movies in that genre\n",
    "\n",
    "def pull_talent_info(genre_df):\n",
    "    \"\"\" Function takes a genre dataframe as input \n",
    "    and returns a new dataframe with genre-specific talent details\n",
    "    \"\"\"\n",
    "    subset_genre_df = genre_df.sort_values('Overall_Movie_Score', ascending = False).head(10)\n",
    "\n",
    "    genre_df_names = []\n",
    "    genre_df_categories = []\n",
    "\n",
    "    for name in subset_genre_df['primary_name']:\n",
    "        for individual in name:\n",
    "            genre_df_names.append(individual)\n",
    "\n",
    "    for category in subset_genre_df['category']:\n",
    "        for individual_category in category:\n",
    "            genre_df_categories.append(individual_category)\n",
    "            \n",
    "    genre_df_talent = {'Name': genre_df_names, 'Role' : genre_df_categories}\n",
    "    genre_df_talent_df = pd.DataFrame(genre_df_talent)\n",
    "\n",
    "    return genre_df_talent_df.drop_duplicates()"
   ]
  },
  {
   "cell_type": "code",
   "execution_count": 24,
   "metadata": {},
   "outputs": [],
   "source": [
    "# Using the pull_talent_info function for the Mystery genre\n",
    "\n",
    "New_Mystery_df = pull_talent_info(Mystery_df)\n",
    "New_Mystery_df['Genre'] = 'Mystery'"
   ]
  },
  {
   "cell_type": "code",
   "execution_count": 25,
   "metadata": {},
   "outputs": [],
   "source": [
    "# Using the pull_talent_info function for the Adventure genre\n",
    "\n",
    "New_Adventure_df = pull_talent_info(Adventure_df)\n",
    "New_Adventure_df['Genre'] = 'Adventure'"
   ]
  },
  {
   "cell_type": "code",
   "execution_count": 26,
   "metadata": {},
   "outputs": [],
   "source": [
    "# Using the pull_talent_info function for the Animation genre\n",
    "\n",
    "New_Animation_df = pull_talent_info(Animation_df)\n",
    "New_Animation_df['Genre'] = 'Animation'"
   ]
  },
  {
   "cell_type": "code",
   "execution_count": 27,
   "metadata": {},
   "outputs": [],
   "source": [
    "# Using the pull_talent_info function for the Biography genre\n",
    "\n",
    "New_Biography_df = pull_talent_info(Biography_df)\n",
    "New_Biography_df['Genre'] = 'Biography'"
   ]
  },
  {
   "cell_type": "code",
   "execution_count": 28,
   "metadata": {},
   "outputs": [],
   "source": [
    "# Using the pull_talent_info function for the Action genre\n",
    "\n",
    "New_Action_df = pull_talent_info(Action_df)\n",
    "New_Action_df['Genre'] = 'Action'"
   ]
  },
  {
   "cell_type": "code",
   "execution_count": 29,
   "metadata": {},
   "outputs": [
    {
     "data": {
      "text/html": [
       "<div>\n",
       "<style scoped>\n",
       "    .dataframe tbody tr th:only-of-type {\n",
       "        vertical-align: middle;\n",
       "    }\n",
       "\n",
       "    .dataframe tbody tr th {\n",
       "        vertical-align: top;\n",
       "    }\n",
       "\n",
       "    .dataframe thead th {\n",
       "        text-align: right;\n",
       "    }\n",
       "</style>\n",
       "<table border=\"1\" class=\"dataframe\">\n",
       "  <thead>\n",
       "    <tr style=\"text-align: right;\">\n",
       "      <th></th>\n",
       "      <th>Name</th>\n",
       "      <th>Role</th>\n",
       "      <th>Genre</th>\n",
       "    </tr>\n",
       "  </thead>\n",
       "  <tbody>\n",
       "    <tr>\n",
       "      <th>0</th>\n",
       "      <td>Aaron Sorkin</td>\n",
       "      <td>writer</td>\n",
       "      <td>[Biography]</td>\n",
       "    </tr>\n",
       "    <tr>\n",
       "      <th>1</th>\n",
       "      <td>Adam Sandler</td>\n",
       "      <td>actor</td>\n",
       "      <td>[Animation]</td>\n",
       "    </tr>\n",
       "    <tr>\n",
       "      <th>2</th>\n",
       "      <td>Alan Arkin</td>\n",
       "      <td>actor</td>\n",
       "      <td>[Biography]</td>\n",
       "    </tr>\n",
       "    <tr>\n",
       "      <th>3</th>\n",
       "      <td>Alejandro G. Iñárritu</td>\n",
       "      <td>director</td>\n",
       "      <td>[Action]</td>\n",
       "    </tr>\n",
       "    <tr>\n",
       "      <th>4</th>\n",
       "      <td>Allen Leech</td>\n",
       "      <td>actor</td>\n",
       "      <td>[Biography]</td>\n",
       "    </tr>\n",
       "    <tr>\n",
       "      <th>...</th>\n",
       "      <td>...</td>\n",
       "      <td>...</td>\n",
       "      <td>...</td>\n",
       "    </tr>\n",
       "    <tr>\n",
       "      <th>180</th>\n",
       "      <td>Yoshihiro Nakamura</td>\n",
       "      <td>director</td>\n",
       "      <td>[Mystery]</td>\n",
       "    </tr>\n",
       "    <tr>\n",
       "      <th>181</th>\n",
       "      <td>Yoshiyoshi Arakawa</td>\n",
       "      <td>actor</td>\n",
       "      <td>[Mystery]</td>\n",
       "    </tr>\n",
       "    <tr>\n",
       "      <th>182</th>\n",
       "      <td>Zac Efron</td>\n",
       "      <td>actor</td>\n",
       "      <td>[Biography]</td>\n",
       "    </tr>\n",
       "    <tr>\n",
       "      <th>183</th>\n",
       "      <td>Zak Penn</td>\n",
       "      <td>writer</td>\n",
       "      <td>[Action]</td>\n",
       "    </tr>\n",
       "    <tr>\n",
       "      <th>184</th>\n",
       "      <td>Zijian Dong</td>\n",
       "      <td>actor</td>\n",
       "      <td>[Mystery]</td>\n",
       "    </tr>\n",
       "  </tbody>\n",
       "</table>\n",
       "<p>185 rows × 3 columns</p>\n",
       "</div>"
      ],
      "text/plain": [
       "                      Name      Role        Genre\n",
       "0             Aaron Sorkin    writer  [Biography]\n",
       "1             Adam Sandler     actor  [Animation]\n",
       "2               Alan Arkin     actor  [Biography]\n",
       "3    Alejandro G. Iñárritu  director     [Action]\n",
       "4              Allen Leech     actor  [Biography]\n",
       "..                     ...       ...          ...\n",
       "180     Yoshihiro Nakamura  director    [Mystery]\n",
       "181     Yoshiyoshi Arakawa     actor    [Mystery]\n",
       "182              Zac Efron     actor  [Biography]\n",
       "183               Zak Penn    writer     [Action]\n",
       "184            Zijian Dong     actor    [Mystery]\n",
       "\n",
       "[185 rows x 3 columns]"
      ]
     },
     "execution_count": 29,
     "metadata": {},
     "output_type": "execute_result"
    }
   ],
   "source": [
    "# Combining genre-specific talent dataframes into one consolidated version\n",
    "\n",
    "Consolidated_Talent_df = pd.concat([New_Action_df, \n",
    "                                    New_Mystery_df, \n",
    "                                    New_Animation_df, \n",
    "                                    New_Adventure_df, \n",
    "                                    New_Biography_df], ignore_index = True, axis = 0)\n",
    "\n",
    "# Consolidating duplicate rows across genres (i.e. same Director across multiple genres)\n",
    "Final_Consolidated_Talent_df = Consolidated_Talent_df.groupby(['Name', 'Role']).agg(pd.Series.tolist).reset_index()\n",
    "\n",
    "Final_Consolidated_Talent_df"
   ]
  },
  {
   "cell_type": "code",
   "execution_count": 30,
   "metadata": {},
   "outputs": [],
   "source": [
    "Final_Consolidated_Talent_df.to_csv('Talent_List.csv', index = False)"
   ]
  },
  {
   "cell_type": "markdown",
   "metadata": {},
   "source": [
    "## Evaluation\n",
    "\n",
    "I feel that my work gives a solid starting point and general direction for Microsoft to break into the movie-making business. Given the datasets available, I honed in on what I felt to be the most important attributes and metrics. I iterated on my approach and made it less one-dimensional by introducing percentile rankings and further statistical analyses. \n",
    "\n",
    "I am confident enough that my results would generalize beyond the data I have, however I do recognize the limitations of my analysis. The sample size I ended up with was much smaller than I would have liked, and this could certainly lead to biases. I am confident though that this analysis would prove useful at least as a starting point for Microsoft."
   ]
  },
  {
   "cell_type": "markdown",
   "metadata": {},
   "source": [
    "## Conclusions\n",
    "\n",
    "I recommend that Microsoft prioritize the following movie genres with noted budget ranges:\n",
    "\n",
    "1. Adventure (47 - 97 Million USD)\n",
    "2. Biography (34 - 62 Million USD)\n",
    "3. Action (158 - 231 Million USD)\n",
    "4. Mystery (18 - 48 Million USD)\n",
    "5. Animation (47 - 97 Million USD)\n",
    "\n",
    "Within these categories, I recommend Microsoft pursue the writers, directors, and actors listed in the Talent_List.csv file I ended my analysis with. These individuals made major contributions to the top-performing movies in our datasets.\n",
    "\n",
    "My analysis is not fully comprehensive for the following reasons: It lacks advanced statistical analysis (regression analysis, correlation analysis, etc.) which would better help to identify the most important attributes and metrics to focus on, and the sample size is quite small in the grand scheme - only around 2k movies made it to the fully-combined dataset\n",
    "\n",
    "In order to improve this project moving forward, I would seek out more data, and incorporate more advanced statistical analyses. I would also try to better-understand Microsoft's specific business situation (i.e. how much money they have to allocate towards this venture). "
   ]
  }
 ],
 "metadata": {
  "kernelspec": {
   "display_name": "Python 3",
   "language": "python",
   "name": "python3"
  },
  "language_info": {
   "codemirror_mode": {
    "name": "ipython",
    "version": 3
   },
   "file_extension": ".py",
   "mimetype": "text/x-python",
   "name": "python",
   "nbconvert_exporter": "python",
   "pygments_lexer": "ipython3",
   "version": "3.8.5"
  }
 },
 "nbformat": 4,
 "nbformat_minor": 4
}
